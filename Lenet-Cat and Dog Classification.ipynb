{
 "cells": [
  {
   "cell_type": "code",
   "execution_count": 1,
   "metadata": {},
   "outputs": [],
   "source": [
    "import keras\n",
    "from keras.layers import Conv2D, MaxPooling2D\n",
    "from keras.layers import Dense, Flatten\n",
    "from keras.models import Sequential"
   ]
  },
  {
   "cell_type": "code",
   "execution_count": 2,
   "metadata": {},
   "outputs": [],
   "source": [
    "model = Sequential()\n",
    "# Select 6 feature convolution kernels with a size of 3 * 3 (without offset), and get 6 feature maps. The size of each feature map is 32−3 + 1 = 30.\n",
    "# That is, the number of neurons has been reduced from 1024 to 30 ∗ 30 = 900 .\n",
    "# Parameters between input layer and C1 layer: 6 ∗ (3 ∗ 3 + 1)\n",
    "model.add(Conv2D(6, kernel_size=(3, 3), activation='relu', input_shape=(32, 32, 3)))\n",
    "# The input of this layer is the output of the first layer, which is a 30 * 30 * 6 node matrix.\n",
    "# The size of the filter used in this layer is 2 * 2, and the step length and width are both 2, so the output matrix size of this layer is 14 * 14 * 6.\n",
    "model.add(MaxPooling2D(pool_size=(2, 2)))\n",
    "# The input matrix size of this layer is 15 * 15 * 6, the filter size used is 3 * 3, and the depth is 16. This layer does not use all 0 padding, and the step size is 1.\n",
    "# The output matrix size of this layer is 13 * 13 * 16. This layer has 3 * 3 * 6 * 16 + 16 = 880 parameters\n",
    "model.add(Conv2D(16, kernel_size=(3, 3), activation='relu'))\n",
    "# The input matrix size of this layer is 13 * 13- * 16. The size of the filter used in this layer is 2 * 2, and the length and width steps are both 2, so the output matrix size of this layer is 5 * 5 * 16.\n",
    "model.add(MaxPooling2D(pool_size=(2, 2)))\n",
    "# The input matrix size of this layer is 6 * 6 * 16. This layer is called a convolution layer in the LeNet-5 paper, but because the size of the filter is 3 * 3, #\n",
    "# So it is not different from the fully connected layer. If the nodes in the 3 * 3 * 16 matrix are pulled into a vector, then this layer is the same as the fully connected layer.\n",
    "# The number of output nodes in this layer is 120, with a total of 3 * 3 * 16 * 120 + 120 = 17400 parameters.\n",
    "model.add(Flatten())\n",
    "model.add(Dense(120, activation='relu'))\n",
    "# The number of input nodes in this layer is 120 and the number of output nodes is 84. The total parameter is 120 * 84 + 84 = 10164 (w + b)\n",
    "model.add(Dense(84, activation='relu'))\n",
    "# The number of input nodes in this layer is 84 and the number of output nodes is 10. The total parameter is 84 * 10 + 10 = 850\n",
    "model.add(Dense(2, activation='softmax'))\n",
    "model.compile(loss=keras.metrics.categorical_crossentropy, optimizer=keras.optimizers.Adam(), metrics=['accuracy'])"
   ]
  },
  {
   "cell_type": "code",
   "execution_count": 3,
   "metadata": {
    "scrolled": true
   },
   "outputs": [
    {
     "name": "stdout",
     "output_type": "stream",
     "text": [
      "Found 8005 images belonging to 2 classes.\n",
      "Found 2023 images belonging to 2 classes.\n",
      "WARNING:tensorflow:From <ipython-input-3-19cce1a3d61f>:26: Model.fit_generator (from tensorflow.python.keras.engine.training) is deprecated and will be removed in a future version.\n",
      "Instructions for updating:\n",
      "Please use Model.fit, which supports generators.\n",
      "Epoch 1/50\n",
      "501/501 [==============================] - 15s 29ms/step - loss: 0.6748 - accuracy: 0.5701 - val_loss: 0.6567 - val_accuracy: 0.6273\n",
      "Epoch 2/50\n",
      "501/501 [==============================] - 14s 29ms/step - loss: 0.6202 - accuracy: 0.6515 - val_loss: 0.7480 - val_accuracy: 0.5793\n",
      "Epoch 3/50\n",
      "501/501 [==============================] - 14s 29ms/step - loss: 0.5992 - accuracy: 0.6781 - val_loss: 0.5819 - val_accuracy: 0.6881\n",
      "Epoch 4/50\n",
      "501/501 [==============================] - 14s 29ms/step - loss: 0.5807 - accuracy: 0.6931 - val_loss: 0.6046 - val_accuracy: 0.6569\n",
      "Epoch 5/50\n",
      "501/501 [==============================] - 15s 29ms/step - loss: 0.5658 - accuracy: 0.7049 - val_loss: 0.5482 - val_accuracy: 0.7158\n",
      "Epoch 6/50\n",
      "501/501 [==============================] - 15s 29ms/step - loss: 0.5565 - accuracy: 0.7144 - val_loss: 0.5958 - val_accuracy: 0.6851\n",
      "Epoch 7/50\n",
      "501/501 [==============================] - 14s 29ms/step - loss: 0.5428 - accuracy: 0.7234 - val_loss: 0.5468 - val_accuracy: 0.7173\n",
      "Epoch 8/50\n",
      "501/501 [==============================] - 15s 29ms/step - loss: 0.5277 - accuracy: 0.7332 - val_loss: 0.5604 - val_accuracy: 0.7153\n",
      "Epoch 9/50\n",
      "501/501 [==============================] - 15s 29ms/step - loss: 0.5238 - accuracy: 0.7388 - val_loss: 0.5416 - val_accuracy: 0.7321\n",
      "Epoch 10/50\n",
      "501/501 [==============================] - 15s 29ms/step - loss: 0.5141 - accuracy: 0.7415 - val_loss: 0.5452 - val_accuracy: 0.7217\n",
      "Epoch 11/50\n",
      "501/501 [==============================] - 15s 29ms/step - loss: 0.5042 - accuracy: 0.7532 - val_loss: 0.5245 - val_accuracy: 0.7385.5059 - ac\n",
      "Epoch 12/50\n",
      "501/501 [==============================] - 15s 29ms/step - loss: 0.4949 - accuracy: 0.7554 - val_loss: 0.5622 - val_accuracy: 0.7261\n",
      "Epoch 13/50\n",
      "501/501 [==============================] - 15s 29ms/step - loss: 0.4852 - accuracy: 0.7614 - val_loss: 0.5470 - val_accuracy: 0.7177\n",
      "Epoch 14/50\n",
      "501/501 [==============================] - 15s 29ms/step - loss: 0.4761 - accuracy: 0.7681 - val_loss: 0.5835 - val_accuracy: 0.7098\n",
      "Epoch 15/50\n",
      "501/501 [==============================] - 15s 29ms/step - loss: 0.4607 - accuracy: 0.7828 - val_loss: 0.5518 - val_accuracy: 0.7341\n",
      "Epoch 16/50\n",
      "501/501 [==============================] - 15s 29ms/step - loss: 0.4648 - accuracy: 0.7764 - val_loss: 0.5703 - val_accuracy: 0.7242\n",
      "Epoch 17/50\n",
      "501/501 [==============================] - 14s 29ms/step - loss: 0.4512 - accuracy: 0.7839 - val_loss: 0.5415 - val_accuracy: 0.7405\n",
      "Epoch 18/50\n",
      "501/501 [==============================] - 14s 29ms/step - loss: 0.4457 - accuracy: 0.7853 - val_loss: 0.5389 - val_accuracy: 0.7316\n",
      "Epoch 19/50\n",
      "501/501 [==============================] - 15s 29ms/step - loss: 0.4382 - accuracy: 0.7919 - val_loss: 0.5867 - val_accuracy: 0.7103\n",
      "Epoch 20/50\n",
      "501/501 [==============================] - 15s 30ms/step - loss: 0.4312 - accuracy: 0.7916 - val_loss: 0.5955 - val_accuracy: 0.7247\n",
      "Epoch 21/50\n",
      "501/501 [==============================] - 14s 29ms/step - loss: 0.4251 - accuracy: 0.8036 - val_loss: 0.6221 - val_accuracy: 0.7079\n",
      "Epoch 22/50\n",
      "501/501 [==============================] - 15s 29ms/step - loss: 0.4149 - accuracy: 0.8017 - val_loss: 0.5441 - val_accuracy: 0.7439\n",
      "Epoch 23/50\n",
      "501/501 [==============================] - 15s 29ms/step - loss: 0.4013 - accuracy: 0.8146 - val_loss: 0.5665 - val_accuracy: 0.7217\n",
      "Epoch 24/50\n",
      "501/501 [==============================] - 15s 29ms/step - loss: 0.3985 - accuracy: 0.8211 - val_loss: 0.5910 - val_accuracy: 0.7232\n",
      "Epoch 25/50\n",
      "501/501 [==============================] - 15s 29ms/step - loss: 0.3986 - accuracy: 0.8184 - val_loss: 0.5924 - val_accuracy: 0.7350 - loss: 0.3983 - accuracy: 0.81\n",
      "Epoch 26/50\n",
      "501/501 [==============================] - 14s 29ms/step - loss: 0.3865 - accuracy: 0.8236 - val_loss: 0.6205 - val_accuracy: 0.7148\n",
      "Epoch 27/50\n",
      "501/501 [==============================] - 15s 29ms/step - loss: 0.3762 - accuracy: 0.8307 - val_loss: 0.6227 - val_accuracy: 0.7212\n",
      "Epoch 28/50\n",
      "501/501 [==============================] - 15s 29ms/step - loss: 0.3711 - accuracy: 0.8330 - val_loss: 0.6215 - val_accuracy: 0.7153\n",
      "Epoch 29/50\n",
      "501/501 [==============================] - 15s 30ms/step - loss: 0.3568 - accuracy: 0.8382 - val_loss: 0.6661 - val_accuracy: 0.7217\n",
      "Epoch 30/50\n",
      "501/501 [==============================] - 15s 29ms/step - loss: 0.3492 - accuracy: 0.8453 - val_loss: 0.6321 - val_accuracy: 0.7306\n",
      "Epoch 31/50\n",
      "501/501 [==============================] - 15s 29ms/step - loss: 0.3457 - accuracy: 0.8453 - val_loss: 0.6549 - val_accuracy: 0.7237\n",
      "Epoch 32/50\n",
      "501/501 [==============================] - 15s 29ms/step - loss: 0.3355 - accuracy: 0.8512 - val_loss: 0.6844 - val_accuracy: 0.7098\n",
      "Epoch 33/50\n",
      "501/501 [==============================] - 15s 29ms/step - loss: 0.3325 - accuracy: 0.8498 - val_loss: 0.6529 - val_accuracy: 0.7148\n",
      "Epoch 34/50\n",
      "501/501 [==============================] - 15s 29ms/step - loss: 0.3251 - accuracy: 0.8536 - val_loss: 0.6817 - val_accuracy: 0.7212\n",
      "Epoch 35/50\n",
      "501/501 [==============================] - 15s 29ms/step - loss: 0.3168 - accuracy: 0.8593 - val_loss: 0.6993 - val_accuracy: 0.7375\n",
      "Epoch 36/50\n",
      "501/501 [==============================] - 15s 29ms/step - loss: 0.3062 - accuracy: 0.8668 - val_loss: 0.6838 - val_accuracy: 0.7326\n",
      "Epoch 37/50\n",
      "501/501 [==============================] - 15s 29ms/step - loss: 0.3128 - accuracy: 0.8620 - val_loss: 0.6965 - val_accuracy: 0.7281\n",
      "Epoch 38/50\n",
      "501/501 [==============================] - 15s 29ms/step - loss: 0.2966 - accuracy: 0.8713 - val_loss: 0.7276 - val_accuracy: 0.7133\n",
      "Epoch 39/50\n",
      "501/501 [==============================] - 14s 29ms/step - loss: 0.2997 - accuracy: 0.8677 - val_loss: 0.6876 - val_accuracy: 0.7286\n",
      "Epoch 40/50\n",
      "501/501 [==============================] - 14s 29ms/step - loss: 0.2847 - accuracy: 0.8795 - val_loss: 0.7779 - val_accuracy: 0.7168\n",
      "Epoch 41/50\n",
      "501/501 [==============================] - 15s 29ms/step - loss: 0.2895 - accuracy: 0.8761 - val_loss: 0.7895 - val_accuracy: 0.7044\n",
      "Epoch 42/50\n",
      "501/501 [==============================] - 14s 29ms/step - loss: 0.2830 - accuracy: 0.8732 - val_loss: 0.7243 - val_accuracy: 0.7158\n",
      "Epoch 43/50\n",
      "501/501 [==============================] - 15s 30ms/step - loss: 0.2837 - accuracy: 0.8795 - val_loss: 0.7413 - val_accuracy: 0.7232\n",
      "Epoch 44/50\n",
      "501/501 [==============================] - 14s 29ms/step - loss: 0.2692 - accuracy: 0.8843 - val_loss: 0.7757 - val_accuracy: 0.7242\n",
      "Epoch 45/50\n",
      "501/501 [==============================] - 14s 29ms/step - loss: 0.2683 - accuracy: 0.8864 - val_loss: 0.7342 - val_accuracy: 0.7326\n",
      "Epoch 46/50\n",
      "501/501 [==============================] - 15s 29ms/step - loss: 0.2660 - accuracy: 0.8838 - val_loss: 0.7622 - val_accuracy: 0.7331\n",
      "Epoch 47/50\n",
      "501/501 [==============================] - 14s 29ms/step - loss: 0.2489 - accuracy: 0.8967 - val_loss: 0.7736 - val_accuracy: 0.7326\n",
      "Epoch 48/50\n",
      "501/501 [==============================] - 14s 29ms/step - loss: 0.2559 - accuracy: 0.8926 - val_loss: 0.7458 - val_accuracy: 0.7326\n",
      "Epoch 49/50\n",
      "501/501 [==============================] - 15s 29ms/step - loss: 0.2526 - accuracy: 0.8974 - val_loss: 0.8242 - val_accuracy: 0.7321\n",
      "Epoch 50/50\n",
      "501/501 [==============================] - 15s 29ms/step - loss: 0.2499 - accuracy: 0.8942 - val_loss: 0.7885 - val_accuracy: 0.7346\n"
     ]
    }
   ],
   "source": [
    "# Part 2 - Fitting the CNN to the images\n",
    "\n",
    "from keras.preprocessing.image import ImageDataGenerator\n",
    "\n",
    "train_datagen = ImageDataGenerator(rescale = 1./255,\n",
    "                                   shear_range = 0.2,\n",
    "                                   zoom_range = 0.2,\n",
    "                                   horizontal_flip = True)\n",
    "\n",
    "test_datagen = ImageDataGenerator(rescale = 1./255)\n",
    "\n",
    "training_set = train_datagen.flow_from_directory('C:\\\\Users\\\\Asus-2020\\\\Downloads\\\\Cat and Dog\\\\train',\n",
    "                                                 target_size = (32, 32),\n",
    "                                                 batch_size = 16,\n",
    "                                                 class_mode = 'categorical')\n",
    "\n",
    "test_set = test_datagen.flow_from_directory('C:\\\\Users\\\\Asus-2020\\\\Downloads\\\\Cat and Dog\\\\test',\n",
    "                                            target_size = (32, 32),\n",
    "                                            batch_size = 16,\n",
    "                                            class_mode = 'categorical')\n",
    "\n",
    "r=model.fit_generator(training_set,\n",
    "                         steps_per_epoch = len(training_set),\n",
    "                         epochs = 50,\n",
    "                         validation_data = test_set,    \n",
    "                         validation_steps = len(test_set))"
   ]
  },
  {
   "cell_type": "code",
   "execution_count": 4,
   "metadata": {},
   "outputs": [
    {
     "name": "stdout",
     "output_type": "stream",
     "text": [
      "Model: \"sequential\"\n",
      "_________________________________________________________________\n",
      "Layer (type)                 Output Shape              Param #   \n",
      "=================================================================\n",
      "conv2d (Conv2D)              (None, 30, 30, 6)         168       \n",
      "_________________________________________________________________\n",
      "max_pooling2d (MaxPooling2D) (None, 15, 15, 6)         0         \n",
      "_________________________________________________________________\n",
      "conv2d_1 (Conv2D)            (None, 13, 13, 16)        880       \n",
      "_________________________________________________________________\n",
      "max_pooling2d_1 (MaxPooling2 (None, 6, 6, 16)          0         \n",
      "_________________________________________________________________\n",
      "flatten (Flatten)            (None, 576)               0         \n",
      "_________________________________________________________________\n",
      "dense (Dense)                (None, 120)               69240     \n",
      "_________________________________________________________________\n",
      "dense_1 (Dense)              (None, 84)                10164     \n",
      "_________________________________________________________________\n",
      "dense_2 (Dense)              (None, 2)                 170       \n",
      "=================================================================\n",
      "Total params: 80,622\n",
      "Trainable params: 80,622\n",
      "Non-trainable params: 0\n",
      "_________________________________________________________________\n"
     ]
    }
   ],
   "source": [
    "model.summary()"
   ]
  },
  {
   "cell_type": "code",
   "execution_count": 5,
   "metadata": {},
   "outputs": [
    {
     "data": {
      "image/png": "[encoded data removed]",
      "text/plain": [
       "<Figure size 432x288 with 1 Axes>"
      ]
     },
     "metadata": {
      "needs_background": "light"
     },
     "output_type": "display_data"
    },
    {
     "data": {
      "image/png": "[encoded data removed]",
      "text/plain": [
       "<Figure size 432x288 with 1 Axes>"
      ]
     },
     "metadata": {
      "needs_background": "light"
     },
     "output_type": "display_data"
    },
    {
     "data": {
      "text/plain": [
       "<Figure size 432x288 with 0 Axes>"
      ]
     },
     "metadata": {},
     "output_type": "display_data"
    }
   ],
   "source": [
    "# plot the loss\n",
    "import matplotlib.pyplot as plt\n",
    "plt.plot(r.history['loss'], label='train loss')\n",
    "plt.plot(r.history['val_loss'], label='val loss')\n",
    "plt.legend()\n",
    "plt.show()\n",
    "plt.savefig('LossVal_loss')\n",
    "\n",
    "# plot the accuracy\n",
    "plt.plot(r.history['accuracy'], label='train acc')\n",
    "plt.plot(r.history['val_accuracy'], label='val acc')\n",
    "plt.legend()\n",
    "plt.show()\n",
    "plt.savefig('AccVal_acc')"
   ]
  },
  {
   "cell_type": "code",
   "execution_count": 6,
   "metadata": {},
   "outputs": [
    {
     "name": "stdout",
     "output_type": "stream",
     "text": [
      "[[0. 1.]]\n",
      "Dog\n"
     ]
    }
   ],
   "source": [
    "# Part 3 - Making new predictions\n",
    "import numpy as np\n",
    "from keras.preprocessing import image\n",
    "test_image = image.load_img('C:\\\\Users\\\\Asus-2020\\Downloads\\\\Cat and Dog\\\\test\\\\dogs\\\\dog.4040.jpg', target_size = (32, 32))\n",
    "test_image = image.img_to_array(test_image)\n",
    "test_image = np.expand_dims(test_image, axis = 0)\n",
    "result = model.predict(test_image)\n",
    "#training_set.class_indices\n",
    "print(result)\n",
    "if result[0][0] == 1:\n",
    "    prediction = 'Cat'\n",
    "    print(prediction)\n",
    "else:\n",
    "    prediction = 'Dog'\n",
    "    print(prediction)"
   ]
  },
  {
   "cell_type": "code",
   "execution_count": null,
   "metadata": {},
   "outputs": [],
   "source": []
  },
  {
   "cell_type": "code",
   "execution_count": null,
   "metadata": {},
   "outputs": [],
   "source": []
  }
 ],
 "metadata": {
  "kernelspec": {
   "display_name": "Python 3",
   "language": "python",
   "name": "python3"
  },
  "language_info": {
   "codemirror_mode": {
    "name": "ipython",
    "version": 3
   },
   "file_extension": ".py",
   "mimetype": "text/x-python",
   "name": "python",
   "nbconvert_exporter": "python",
   "pygments_lexer": "ipython3",
   "version": "3.7.4"
  }
 },
 "nbformat": 4,
 "nbformat_minor": 4
}
