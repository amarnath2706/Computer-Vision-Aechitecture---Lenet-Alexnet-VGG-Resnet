{
 "cells": [
  {
   "cell_type": "code",
   "execution_count": 1,
   "metadata": {
    "id": "SIgZqN8-8uTV"
   },
   "outputs": [],
   "source": [
    "from tensorflow.compat.v1 import ConfigProto\n",
    "from tensorflow.compat.v1 import InteractiveSession\n",
    "\n",
    "config = ConfigProto()\n",
    "config.gpu_options.per_process_gpu_memory_fraction = 0.5 #Use the GPU memory 50%\n",
    "config.gpu_options.allow_growth = True\n",
    "session = InteractiveSession(config=config)"
   ]
  },
  {
   "cell_type": "code",
   "execution_count": 2,
   "metadata": {
    "id": "bU3FXkGw81NA"
   },
   "outputs": [],
   "source": [
    "# Convolutional Neural Network\n",
    "\n",
    "# Importing the libraries\n",
    "import tensorflow as tf\n",
    "#ImageDataGenerator helps us to read the data from the folders\n",
    "from tensorflow.keras.preprocessing.image import ImageDataGenerator"
   ]
  },
  {
   "cell_type": "code",
   "execution_count": 3,
   "metadata": {
    "colab": {
     "base_uri": "https://localhost:8080/",
     "height": 35
    },
    "id": "ZxhYD3_186Pi",
    "outputId": "4d13101f-fad6-423b-c320-106072a354c6"
   },
   "outputs": [
    {
     "data": {
      "text/plain": [
       "'2.3.0'"
      ]
     },
     "execution_count": 3,
     "metadata": {},
     "output_type": "execute_result"
    }
   ],
   "source": [
    "#Tensorflow version\n",
    "tf.__version__"
   ]
  },
  {
   "cell_type": "code",
   "execution_count": 4,
   "metadata": {
    "id": "5ER0qVDQ89a3"
   },
   "outputs": [],
   "source": [
    "# Part 1 - Data Preprocessing\n",
    "\n",
    "# Preprocessing the Training set\n",
    "#Feature Scaling on the images - Kind of DataAugumentation\n",
    "#rescale - Normalizing the dataset(Scaling the value between 0 to 1 in each and every pixel in the image)\n",
    "train_datagen = ImageDataGenerator(rescale = 1./255,\n",
    "                                   shear_range = 0.2,\n",
    "                                   zoom_range = 0.2,\n",
    "                                   horizontal_flip = True)\n"
   ]
  },
  {
   "cell_type": "code",
   "execution_count": 5,
   "metadata": {
    "colab": {
     "base_uri": "https://localhost:8080/"
    },
    "id": "_L9cCIV-8_IC",
    "outputId": "a02e8a9c-1b72-4848-cd49-5dd0106867e6"
   },
   "outputs": [
    {
     "name": "stdout",
     "output_type": "stream",
     "text": [
      "Found 8005 images belonging to 2 classes.\n",
      "Found 2023 images belonging to 2 classes.\n"
     ]
    }
   ],
   "source": [
    "training_set = train_datagen.flow_from_directory('C:\\\\Users\\\\Asus-2020\\Downloads\\\\Cat and Dog\\\\train',\n",
    "                                                 target_size = (64, 64),\n",
    "                                                 batch_size = 32,\n",
    "                                                 class_mode = 'binary')\n",
    "\n",
    "# Preprocessing the Test set\n",
    "test_datagen = ImageDataGenerator(rescale = 1./255)\n",
    "test_set = test_datagen.flow_from_directory('C:\\\\Users\\\\Asus-2020\\Downloads\\\\Cat and Dog\\\\test',\n",
    "                                            target_size = (64, 64),\n",
    "                                            batch_size = 32,\n",
    "                                            class_mode = 'binary')"
   ]
  },
  {
   "cell_type": "code",
   "execution_count": 6,
   "metadata": {
    "id": "6GHZaX2Z-fLu"
   },
   "outputs": [],
   "source": [
    "from tensorflow.keras.layers import Conv2D"
   ]
  },
  {
   "cell_type": "code",
   "execution_count": 7,
   "metadata": {
    "id": "QTcvNUev-ju6"
   },
   "outputs": [],
   "source": [
    "#Conv2D(padding=\"same\")"
   ]
  },
  {
   "cell_type": "code",
   "execution_count": 8,
   "metadata": {
    "id": "8lNvARJv-lQH"
   },
   "outputs": [],
   "source": [
    "# Part 2 - Building the CNN\n",
    "\n",
    "# Initialising the CNN\n",
    "#Sequential - Create the pipeline \n",
    "cnn = tf.keras.models.Sequential()\n",
    "\n",
    "# Step 1 - Create a convolution layer - Filter size, padding, no of filters, activation function, input shape\n",
    "#Default value of stride is 1.\n",
    "#Input and target size should be the same always\n",
    "#Here i have applied padding (padding='same') so we can avoid the image shrinking problem\n",
    "cnn.add(tf.keras.layers.Conv2D(filters=32,padding=\"same\",kernel_size=3, activation='relu', input_shape=[64, 64, 3]))\n",
    "\n",
    "# Step 2 -Create Pooling - Maxpooling with size = 2 and Stride = 2\n",
    "cnn.add(tf.keras.layers.MaxPool2D(pool_size=2, strides=2))\n",
    "\n",
    "# Adding a second convolutional layer\n",
    "cnn.add(tf.keras.layers.Conv2D(filters=32,padding='same',kernel_size=3, activation='relu'))\n",
    "cnn.add(tf.keras.layers.MaxPool2D(pool_size=2, strides=2))\n",
    "\n",
    "# Step 3 - Flattening\n",
    "cnn.add(tf.keras.layers.Flatten())\n",
    "\n",
    "# Step 4 - Full Connection\n",
    "#One hidden layer contains 128 neurons and activation function is relu\n",
    "cnn.add(tf.keras.layers.Dense(units=128, activation='relu'))\n",
    "\n",
    "# Step 5 - Output Layer\n",
    "#In outputlayer i have used sigmoid as an activation function because it is binary classification problem \n",
    "cnn.add(tf.keras.layers.Dense(units=1, activation='sigmoid'))"
   ]
  },
  {
   "cell_type": "code",
   "execution_count": 9,
   "metadata": {
    "colab": {
     "base_uri": "https://localhost:8080/"
    },
    "id": "4JJCI1YI-quJ",
    "outputId": "704b9f3e-3538-4e2c-c07a-0cc369d63e3b"
   },
   "outputs": [
    {
     "name": "stdout",
     "output_type": "stream",
     "text": [
      "Model: \"sequential\"\n",
      "_________________________________________________________________\n",
      "Layer (type)                 Output Shape              Param #   \n",
      "=================================================================\n",
      "conv2d (Conv2D)              (None, 64, 64, 32)        896       \n",
      "_________________________________________________________________\n",
      "max_pooling2d (MaxPooling2D) (None, 32, 32, 32)        0         \n",
      "_________________________________________________________________\n",
      "conv2d_1 (Conv2D)            (None, 32, 32, 32)        9248      \n",
      "_________________________________________________________________\n",
      "max_pooling2d_1 (MaxPooling2 (None, 16, 16, 32)        0         \n",
      "_________________________________________________________________\n",
      "flatten (Flatten)            (None, 8192)              0         \n",
      "_________________________________________________________________\n",
      "dense (Dense)                (None, 128)               1048704   \n",
      "_________________________________________________________________\n",
      "dense_1 (Dense)              (None, 1)                 129       \n",
      "=================================================================\n",
      "Total params: 1,058,977\n",
      "Trainable params: 1,058,977\n",
      "Non-trainable params: 0\n",
      "_________________________________________________________________\n"
     ]
    }
   ],
   "source": [
    "\n",
    "cnn.summary()"
   ]
  },
  {
   "cell_type": "code",
   "execution_count": 10,
   "metadata": {
    "colab": {
     "base_uri": "https://localhost:8080/"
    },
    "id": "9I-dnADK-sRe",
    "outputId": "6c14184c-22df-433a-bb23-aa94d2a37359"
   },
   "outputs": [
    {
     "name": "stdout",
     "output_type": "stream",
     "text": [
      "Epoch 1/10\n",
      "251/251 [==============================] - 89s 355ms/step - loss: 0.6618 - accuracy: 0.6007 - val_loss: 0.6346 - val_accuracy: 0.6367\n",
      "Epoch 2/10\n",
      "251/251 [==============================] - 48s 191ms/step - loss: 0.5917 - accuracy: 0.6872 - val_loss: 0.5882 - val_accuracy: 0.6940\n",
      "Epoch 3/10\n",
      "251/251 [==============================] - 48s 191ms/step - loss: 0.5437 - accuracy: 0.7292 - val_loss: 0.5328 - val_accuracy: 0.7390\n",
      "Epoch 4/10\n",
      "251/251 [==============================] - 50s 198ms/step - loss: 0.5188 - accuracy: 0.7383 - val_loss: 0.5054 - val_accuracy: 0.7672\n",
      "Epoch 5/10\n",
      "251/251 [==============================] - 50s 199ms/step - loss: 0.4878 - accuracy: 0.7638 - val_loss: 0.4841 - val_accuracy: 0.7741\n",
      "Epoch 6/10\n",
      "251/251 [==============================] - 50s 198ms/step - loss: 0.4666 - accuracy: 0.7718 - val_loss: 0.4685 - val_accuracy: 0.7815\n",
      "Epoch 7/10\n",
      "251/251 [==============================] - 50s 200ms/step - loss: 0.4515 - accuracy: 0.7843 - val_loss: 0.4651 - val_accuracy: 0.7884\n",
      "Epoch 8/10\n",
      "251/251 [==============================] - 48s 190ms/step - loss: 0.4351 - accuracy: 0.7981 - val_loss: 0.4577 - val_accuracy: 0.8028\n",
      "Epoch 9/10\n",
      "251/251 [==============================] - 48s 192ms/step - loss: 0.4158 - accuracy: 0.8039 - val_loss: 0.5287 - val_accuracy: 0.7617\n",
      "Epoch 10/10\n",
      "251/251 [==============================] - 49s 194ms/step - loss: 0.4084 - accuracy: 0.8114 - val_loss: 0.4655 - val_accuracy: 0.7850\n"
     ]
    },
    {
     "data": {
      "text/plain": [
       "<tensorflow.python.keras.callbacks.History at 0x1c99eadf048>"
      ]
     },
     "execution_count": 10,
     "metadata": {},
     "output_type": "execute_result"
    }
   ],
   "source": [
    "# Part 3 - Training the CNN\n",
    "\n",
    "# Compiling the CNN\n",
    "#Optimizer - reduce the loss throgh backward propogation by update the weights and bias.\n",
    "#loss - Since it is a binary classification problem so we  are calculating the loss with the help of binary_crossentropy \n",
    "cnn.compile(optimizer = 'adam', loss = 'binary_crossentropy', metrics = ['accuracy'])\n",
    "\n",
    "# Training the CNN on the Training set and evaluating it on the Test set\n",
    "cnn.fit(x = training_set, validation_data = test_set, epochs = 10)"
   ]
  },
  {
   "cell_type": "code",
   "execution_count": 16,
   "metadata": {
    "id": "iZZmbqL7-tx8"
   },
   "outputs": [],
   "source": [
    "# save it as a h5 file\n",
    "\n",
    "from tensorflow.keras.models import load_model\n",
    "#.h5-Keras model extension\n",
    "cnn.save('model_rcat_dog1_epoch10.h5')"
   ]
  },
  {
   "cell_type": "code",
   "execution_count": 17,
   "metadata": {
    "id": "tTd2-fWI_-fE"
   },
   "outputs": [],
   "source": [
    "from tensorflow.keras.models import load_model\n",
    " \n",
    "# load model\n",
    "model = load_model('model_rcat_dog1_epoch10.h5')"
   ]
  },
  {
   "cell_type": "code",
   "execution_count": 18,
   "metadata": {
    "colab": {
     "base_uri": "https://localhost:8080/"
    },
    "id": "tMMdkzdyAAqx",
    "outputId": "a8ec6945-17d8-4065-8afa-f47a41bdc8f1"
   },
   "outputs": [
    {
     "name": "stdout",
     "output_type": "stream",
     "text": [
      "Model: \"sequential\"\n",
      "_________________________________________________________________\n",
      "Layer (type)                 Output Shape              Param #   \n",
      "=================================================================\n",
      "conv2d (Conv2D)              (None, 64, 64, 32)        896       \n",
      "_________________________________________________________________\n",
      "max_pooling2d (MaxPooling2D) (None, 32, 32, 32)        0         \n",
      "_________________________________________________________________\n",
      "conv2d_1 (Conv2D)            (None, 32, 32, 32)        9248      \n",
      "_________________________________________________________________\n",
      "max_pooling2d_1 (MaxPooling2 (None, 16, 16, 32)        0         \n",
      "_________________________________________________________________\n",
      "flatten (Flatten)            (None, 8192)              0         \n",
      "_________________________________________________________________\n",
      "dense (Dense)                (None, 128)               1048704   \n",
      "_________________________________________________________________\n",
      "dense_1 (Dense)              (None, 1)                 129       \n",
      "=================================================================\n",
      "Total params: 1,058,977\n",
      "Trainable params: 1,058,977\n",
      "Non-trainable params: 0\n",
      "_________________________________________________________________\n"
     ]
    }
   ],
   "source": [
    "#To View the summary of the model then we can get the same summary as like the cnn model summary\n",
    "model.summary()"
   ]
  },
  {
   "cell_type": "code",
   "execution_count": 19,
   "metadata": {
    "id": "N-_nZQe3ACCu"
   },
   "outputs": [
    {
     "data": {
      "text/plain": [
       "\"# Part 4 - Making a single prediction\\n\\n\\nimport numpy as np\\nfrom tensorflow.keras.preprocessing import image\\ntest_image = image.load_img('/content/drive/MyDrive/CNN/test/Cat/10113.jpg', target_size = (64,64))\\ntest_image = image.img_to_array(test_image)\\ntest_image=test_image/255\\ntest_image = np.expand_dims(test_image, axis = 0)\\nresult = cnn.predict(test_image)\""
      ]
     },
     "execution_count": 19,
     "metadata": {},
     "output_type": "execute_result"
    }
   ],
   "source": [
    "'''# Part 4 - Making a single prediction\n",
    "\n",
    "\n",
    "import numpy as np\n",
    "from tensorflow.keras.preprocessing import image\n",
    "test_image = image.load_img('/content/drive/MyDrive/CNN/test/Cat/10113.jpg', target_size = (64,64))\n",
    "test_image = image.img_to_array(test_image)\n",
    "test_image=test_image/255\n",
    "test_image = np.expand_dims(test_image, axis = 0)\n",
    "result = cnn.predict(test_image)'''"
   ]
  },
  {
   "cell_type": "code",
   "execution_count": 20,
   "metadata": {
    "id": "7Zz9W74hADrt"
   },
   "outputs": [],
   "source": [
    "# Part 4 - Making a single prediction\n",
    "#test with the new data (test folder)\n",
    "\n",
    "import numpy as np\n",
    "from tensorflow.keras.preprocessing import image\n",
    "test_image = image.load_img('C:\\\\Users\\\\Asus-2020\\Downloads\\\\Cat and Dog\\\\test\\\\dogs\\\\dog.4017.jpg', target_size = (64,64))\n",
    "#convert image into an array\n",
    "test_image = image.img_to_array(test_image)\n",
    "#covert the array values in to noramalize values\n",
    "test_image=test_image/255\n",
    "#Exapnd the dimensions\n",
    "test_image = np.expand_dims(test_image, axis = 0)\n",
    "result = cnn.predict(test_image) "
   ]
  },
  {
   "cell_type": "code",
   "execution_count": 21,
   "metadata": {
    "colab": {
     "base_uri": "https://localhost:8080/"
    },
    "id": "4tAI6o-ZANeL",
    "outputId": "ae3630e9-47ef-463e-8095-f52bf643e06c"
   },
   "outputs": [
    {
     "data": {
      "text/plain": [
       "array([[0.87383074]], dtype=float32)"
      ]
     },
     "execution_count": 21,
     "metadata": {},
     "output_type": "execute_result"
    }
   ],
   "source": [
    "result"
   ]
  },
  {
   "cell_type": "code",
   "execution_count": 22,
   "metadata": {
    "colab": {
     "base_uri": "https://localhost:8080/"
    },
    "id": "VCaLqSZtAapG",
    "outputId": "defa6c14-2bea-4222-bb53-a2c276f3a5ed"
   },
   "outputs": [
    {
     "name": "stdout",
     "output_type": "stream",
     "text": [
      "The image classified is dog\n"
     ]
    }
   ],
   "source": [
    "if result[0]<=0.5:\n",
    "    print(\"The image classified is cat\")\n",
    "else:\n",
    "    print(\"The image classified is dog\")"
   ]
  },
  {
   "cell_type": "code",
   "execution_count": 25,
   "metadata": {
    "id": "oVTISlSJAcCo"
   },
   "outputs": [
    {
     "name": "stdout",
     "output_type": "stream",
     "text": [
      "dog\n"
     ]
    }
   ],
   "source": [
    "#Another Method for Prediction\n",
    "import numpy as np\n",
    "from keras.preprocessing import image\n",
    "test_image = image.load_img('C:\\\\Users\\\\Asus-2020\\Downloads\\\\Cat and Dog\\\\test\\\\dogs\\\\dog.4017.jpg', target_size = (64, 64))\n",
    "test_image = image.img_to_array(test_image)\n",
    "test_image = np.expand_dims(test_image, axis = 0)\n",
    "result = cnn.predict(test_image)\n",
    "training_set.class_indices\n",
    "if result[0][0] == 1:\n",
    "    prediction = 'dog'\n",
    "    print(prediction)\n",
    "else:\n",
    "    prediction = 'cat'\n",
    "    print(prediction)"
   ]
  },
  {
   "cell_type": "code",
   "execution_count": null,
   "metadata": {},
   "outputs": [],
   "source": []
  }
 ],
 "metadata": {
  "accelerator": "TPU",
  "colab": {
   "name": "Classification_Colab.ipynb",
   "provenance": []
  },
  "kernelspec": {
   "display_name": "Python 3",
   "language": "python",
   "name": "python3"
  },
  "language_info": {
   "codemirror_mode": {
    "name": "ipython",
    "version": 3
   },
   "file_extension": ".py",
   "mimetype": "text/x-python",
   "name": "python",
   "nbconvert_exporter": "python",
   "pygments_lexer": "ipython3",
   "version": "3.6.9"
  }
 },
 "nbformat": 4,
 "nbformat_minor": 1
}
