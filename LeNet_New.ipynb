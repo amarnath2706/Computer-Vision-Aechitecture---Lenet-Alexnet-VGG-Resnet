{
 "cells": [
  {
   "cell_type": "code",
   "execution_count": 1,
   "metadata": {},
   "outputs": [
    {
     "name": "stderr",
     "output_type": "stream",
     "text": [
      "Using TensorFlow backend.\n"
     ]
    }
   ],
   "source": [
    "import keras\n",
    "from keras.layers import Conv2D, MaxPooling2D\n",
    "from keras.layers import Dense, Flatten\n",
    "from keras.models import Sequential"
   ]
  },
  {
   "cell_type": "code",
   "execution_count": 3,
   "metadata": {},
   "outputs": [],
   "source": [
    "model = Sequential()\n",
    "# Select 6 feature convolution kernels with a size of 3 * 3 (without offset), and get 6 feature maps. The size of each feature map is 32−3 + 1 = 30.\n",
    "# That is, the number of neurons has been reduced from 1024 to 30 ∗ 30 = 900 .\n",
    "# Parameters between input layer and C1 layer: 6 ∗ (3 ∗ 3 + 1)\n",
    "model.add(Conv2D(6, kernel_size=(3, 3), activation='relu', input_shape=(32, 32, 3)))\n",
    "# The input of this layer is the output of the first layer, which is a 30 * 30 * 6 node matrix.\n",
    "# The size of the filter used in this layer is 2 * 2, and the step length and width are both 2, so the output matrix size of this layer is 14 * 14 * 6.\n",
    "model.add(MaxPooling2D(pool_size=(2, 2)))\n",
    "# The input matrix size of this layer is 15 * 15 * 6, the filter size used is 3 * 3, and the depth is 16. This layer does not use all 0 padding, and the step size is 1.\n",
    "# The output matrix size of this layer is 13 * 13 * 16. This layer has 3 * 3 * 6 * 16 + 16 = 880 parameters\n",
    "model.add(Conv2D(16, kernel_size=(3, 3), activation='relu'))\n",
    "# The input matrix size of this layer is 13 * 13- * 16. The size of the filter used in this layer is 2 * 2, and the length and width steps are both 2, so the output matrix size of this layer is 5 * 5 * 16.\n",
    "model.add(MaxPooling2D(pool_size=(2, 2)))\n",
    "# The input matrix size of this layer is 6 * 6 * 16. This layer is called a convolution layer in the LeNet-5 paper, but because the size of the filter is 3 * 3, #\n",
    "# So it is not different from the fully connected layer. If the nodes in the 3 * 3 * 16 matrix are pulled into a vector, then this layer is the same as the fully connected layer.\n",
    "# The number of output nodes in this layer is 120, with a total of 3 * 3 * 16 * 120 + 120 = 17400 parameters.\n",
    "model.add(Flatten())\n",
    "model.add(Dense(120, activation='relu'))\n",
    "# The number of input nodes in this layer is 120 and the number of output nodes is 84. The total parameter is 120 * 84 + 84 = 10164 (w + b)\n",
    "model.add(Dense(84, activation='relu'))\n",
    "# The number of input nodes in this layer is 84 and the number of output nodes is 10. The total parameter is 84 * 10 + 10 = 850\n",
    "model.add(Dense(3, activation='softmax'))\n",
    "model.compile(loss=keras.metrics.categorical_crossentropy, optimizer=keras.optimizers.Adam(), metrics=['accuracy'])"
   ]
  },
  {
   "cell_type": "code",
   "execution_count": 4,
   "metadata": {},
   "outputs": [
    {
     "name": "stdout",
     "output_type": "stream",
     "text": [
      "Found 37 images belonging to 3 classes.\n",
      "Found 37 images belonging to 3 classes.\n",
      "Epoch 1/30\n",
      "3/3 [==============================] - 2s 555ms/step - loss: 1.1172 - accuracy: 0.2703 - val_loss: 1.0723 - val_accuracy: 0.5405\n",
      "Epoch 2/30\n",
      "3/3 [==============================] - 2s 509ms/step - loss: 1.0708 - accuracy: 0.4054 - val_loss: 0.9372 - val_accuracy: 0.4865\n",
      "Epoch 3/30\n",
      "3/3 [==============================] - 2s 529ms/step - loss: 1.0230 - accuracy: 0.4865 - val_loss: 0.9512 - val_accuracy: 0.5405\n",
      "Epoch 4/30\n",
      "3/3 [==============================] - 2s 502ms/step - loss: 1.0139 - accuracy: 0.4865 - val_loss: 0.9741 - val_accuracy: 0.5135\n",
      "Epoch 5/30\n",
      "3/3 [==============================] - 2s 512ms/step - loss: 0.9898 - accuracy: 0.4054 - val_loss: 1.0054 - val_accuracy: 0.5135\n",
      "Epoch 6/30\n",
      "3/3 [==============================] - 2s 519ms/step - loss: 0.9549 - accuracy: 0.4595 - val_loss: 1.1474 - val_accuracy: 0.5405\n",
      "Epoch 7/30\n",
      "3/3 [==============================] - 2s 529ms/step - loss: 0.9878 - accuracy: 0.5405 - val_loss: 0.9440 - val_accuracy: 0.5676\n",
      "Epoch 8/30\n",
      "3/3 [==============================] - 2s 534ms/step - loss: 0.9007 - accuracy: 0.5946 - val_loss: 0.8609 - val_accuracy: 0.4865\n",
      "Epoch 9/30\n",
      "3/3 [==============================] - 2s 516ms/step - loss: 0.9136 - accuracy: 0.6216 - val_loss: 0.8217 - val_accuracy: 0.7838\n",
      "Epoch 10/30\n",
      "3/3 [==============================] - 2s 519ms/step - loss: 0.8660 - accuracy: 0.6216 - val_loss: 0.7604 - val_accuracy: 0.5405\n",
      "Epoch 11/30\n",
      "3/3 [==============================] - 2s 522ms/step - loss: 0.9075 - accuracy: 0.5676 - val_loss: 0.5014 - val_accuracy: 0.5946\n",
      "Epoch 12/30\n",
      "3/3 [==============================] - 2s 528ms/step - loss: 0.8451 - accuracy: 0.7027 - val_loss: 0.4641 - val_accuracy: 0.6486\n",
      "Epoch 13/30\n",
      "3/3 [==============================] - 2s 526ms/step - loss: 0.7830 - accuracy: 0.7568 - val_loss: 0.4959 - val_accuracy: 0.6757\n",
      "Epoch 14/30\n",
      "3/3 [==============================] - 2s 538ms/step - loss: 0.7982 - accuracy: 0.7027 - val_loss: 0.9250 - val_accuracy: 0.6216\n",
      "Epoch 15/30\n",
      "3/3 [==============================] - 2s 537ms/step - loss: 0.7266 - accuracy: 0.7568 - val_loss: 0.6392 - val_accuracy: 0.7297\n",
      "Epoch 16/30\n",
      "3/3 [==============================] - 2s 590ms/step - loss: 0.7124 - accuracy: 0.6757 - val_loss: 0.8408 - val_accuracy: 0.6757\n",
      "Epoch 17/30\n",
      "3/3 [==============================] - 2s 518ms/step - loss: 0.7223 - accuracy: 0.7027 - val_loss: 0.9079 - val_accuracy: 0.7027\n",
      "Epoch 18/30\n",
      "3/3 [==============================] - 2s 549ms/step - loss: 0.6394 - accuracy: 0.6486 - val_loss: 0.3036 - val_accuracy: 0.7568\n",
      "Epoch 19/30\n",
      "3/3 [==============================] - 2s 593ms/step - loss: 0.7499 - accuracy: 0.7838 - val_loss: 0.8208 - val_accuracy: 0.7568\n",
      "Epoch 20/30\n",
      "3/3 [==============================] - 2s 549ms/step - loss: 0.6729 - accuracy: 0.7027 - val_loss: 0.8746 - val_accuracy: 0.6757\n",
      "Epoch 21/30\n",
      "3/3 [==============================] - 2s 516ms/step - loss: 0.6014 - accuracy: 0.8378 - val_loss: 0.5808 - val_accuracy: 0.8378\n",
      "Epoch 22/30\n",
      "3/3 [==============================] - 2s 537ms/step - loss: 0.6526 - accuracy: 0.8108 - val_loss: 0.5821 - val_accuracy: 0.8108\n",
      "Epoch 23/30\n",
      "3/3 [==============================] - 2s 559ms/step - loss: 0.5720 - accuracy: 0.7838 - val_loss: 0.0967 - val_accuracy: 0.6757\n",
      "Epoch 24/30\n",
      "3/3 [==============================] - 2s 563ms/step - loss: 0.5619 - accuracy: 0.8108 - val_loss: 0.3654 - val_accuracy: 0.7838\n",
      "Epoch 25/30\n",
      "3/3 [==============================] - 2s 539ms/step - loss: 0.5130 - accuracy: 0.7297 - val_loss: 0.2944 - val_accuracy: 0.8649\n",
      "Epoch 26/30\n",
      "3/3 [==============================] - 2s 528ms/step - loss: 0.5671 - accuracy: 0.8378 - val_loss: 0.5071 - val_accuracy: 0.8919\n",
      "Epoch 27/30\n",
      "3/3 [==============================] - 2s 599ms/step - loss: 0.5430 - accuracy: 0.8378 - val_loss: 0.2334 - val_accuracy: 0.7838\n",
      "Epoch 28/30\n",
      "3/3 [==============================] - 2s 558ms/step - loss: 0.6094 - accuracy: 0.8108 - val_loss: 0.1416 - val_accuracy: 0.7838\n",
      "Epoch 29/30\n",
      "3/3 [==============================] - 2s 539ms/step - loss: 0.4586 - accuracy: 0.8649 - val_loss: 0.5256 - val_accuracy: 0.9189\n",
      "Epoch 30/30\n",
      "3/3 [==============================] - 2s 550ms/step - loss: 0.4480 - accuracy: 0.8378 - val_loss: 0.2931 - val_accuracy: 0.9189\n"
     ]
    },
    {
     "data": {
      "text/plain": [
       "<keras.callbacks.callbacks.History at 0x7aee64a860>"
      ]
     },
     "execution_count": 4,
     "metadata": {},
     "output_type": "execute_result"
    }
   ],
   "source": [
    "# Part 2 - Fitting the CNN to the images\n",
    "\n",
    "from keras.preprocessing.image import ImageDataGenerator\n",
    "\n",
    "train_datagen = ImageDataGenerator(rescale = 1./255,\n",
    "                                   shear_range = 0.2,\n",
    "                                   zoom_range = 0.2,\n",
    "                                   horizontal_flip = True)\n",
    "\n",
    "test_datagen = ImageDataGenerator(rescale = 1./255)\n",
    "\n",
    "training_set = train_datagen.flow_from_directory('F:/Dataset/Lenet/train',\n",
    "                                                 target_size = (32, 32),\n",
    "                                                 batch_size = 16,\n",
    "                                                 class_mode = 'categorical')\n",
    "\n",
    "test_set = test_datagen.flow_from_directory('F:/Dataset/Lenet/test',\n",
    "                                            target_size = (32, 32),\n",
    "                                            batch_size = 16,\n",
    "                                            class_mode = 'categorical')\n",
    "\n",
    "model.fit_generator(training_set,\n",
    "                         steps_per_epoch = len(training_set),\n",
    "                         epochs = 30,\n",
    "                         validation_data = test_set,    \n",
    "                         validation_steps = len(test_set))"
   ]
  },
  {
   "cell_type": "code",
   "execution_count": 10,
   "metadata": {},
   "outputs": [
    {
     "name": "stdout",
     "output_type": "stream",
     "text": [
      "[[0. 0. 1.]]\n",
      "Sachin\n"
     ]
    }
   ],
   "source": [
    "# Part 3 - Making new predictions\n",
    "import numpy as np\n",
    "from keras.preprocessing import image\n",
    "test_image = image.load_img('F:/Dataset/Lenet/S14.jpg', target_size = (32, 32))\n",
    "test_image = image.img_to_array(test_image)\n",
    "test_image = np.expand_dims(test_image, axis = 0)\n",
    "result = model.predict(test_image)\n",
    "training_set.class_indices\n",
    "print(result)\n",
    "if result[0][0] == 1:\n",
    "    prediction = 'Apj'\n",
    "    print(prediction)\n",
    "elif result[0][1] == 1:\n",
    "    prediction = 'Dhoni'\n",
    "    print(prediction)\n",
    "    \n",
    "else:\n",
    "    prediction = 'Sachin'\n",
    "    print(prediction)"
   ]
  },
  {
   "cell_type": "code",
   "execution_count": null,
   "metadata": {},
   "outputs": [],
   "source": []
  }
 ],
 "metadata": {
  "kernelspec": {
   "display_name": "Python 3",
   "language": "python",
   "name": "python3"
  },
  "language_info": {
   "codemirror_mode": {
    "name": "ipython",
    "version": 3
   },
   "file_extension": ".py",
   "mimetype": "text/x-python",
   "name": "python",
   "nbconvert_exporter": "python",
   "pygments_lexer": "ipython3",
   "version": "3.7.4"
  }
 },
 "nbformat": 4,
 "nbformat_minor": 4
}
